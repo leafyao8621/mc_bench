{
 "cells": [
  {
   "cell_type": "code",
   "execution_count": 1,
   "metadata": {},
   "outputs": [
    {
     "ename": "ImportError",
     "evalue": "libblis.so.4: cannot open shared object file: No such file or directory",
     "output_type": "error",
     "traceback": [
      "\u001b[0;31m---------------------------------------------------------------------------\u001b[0m",
      "\u001b[0;31mImportError\u001b[0m                               Traceback (most recent call last)",
      "Cell \u001b[0;32mIn[1], line 4\u001b[0m\n\u001b[1;32m      2\u001b[0m \u001b[39mimport\u001b[39;00m \u001b[39mnumpy\u001b[39;00m\n\u001b[1;32m      3\u001b[0m \u001b[39mimport\u001b[39;00m \u001b[39mmcbench\u001b[39;00m\u001b[39m.\u001b[39;00m\u001b[39mnumpy\u001b[39;00m\n\u001b[0;32m----> 4\u001b[0m \u001b[39mimport\u001b[39;00m \u001b[39mmcbench\u001b[39;00m\u001b[39m.\u001b[39;00m\u001b[39mblas\u001b[39;00m\n\u001b[1;32m      5\u001b[0m \u001b[39mimport\u001b[39;00m \u001b[39mmcbench\u001b[39;00m\u001b[39m.\u001b[39;00m\u001b[39mcublas\u001b[39;00m\n\u001b[1;32m      6\u001b[0m \u001b[39mimport\u001b[39;00m \u001b[39mmatplotlib\u001b[39;00m\u001b[39m.\u001b[39;00m\u001b[39mpyplot\u001b[39;00m \u001b[39mas\u001b[39;00m \u001b[39mplt\u001b[39;00m\n",
      "File \u001b[0;32m~/.local/lib/python3.9/site-packages/mcbench/blas/__init__.py:1\u001b[0m\n\u001b[0;32m----> 1\u001b[0m \u001b[39mfrom\u001b[39;00m \u001b[39m.\u001b[39;00m\u001b[39m_wrapper\u001b[39;00m \u001b[39mimport\u001b[39;00m get_state\n\u001b[1;32m      3\u001b[0m __all__ \u001b[39m=\u001b[39m [\n\u001b[1;32m      4\u001b[0m     \u001b[39m\"\u001b[39m\u001b[39mget_state\u001b[39m\u001b[39m\"\u001b[39m\n\u001b[1;32m      5\u001b[0m ]\n",
      "File \u001b[0;32m~/.local/lib/python3.9/site-packages/mcbench/blas/_wrapper.py:2\u001b[0m\n\u001b[1;32m      1\u001b[0m \u001b[39mimport\u001b[39;00m \u001b[39mnumpy\u001b[39;00m\n\u001b[0;32m----> 2\u001b[0m \u001b[39mimport\u001b[39;00m \u001b[39mmcbench\u001b[39;00m\u001b[39m.\u001b[39;00m\u001b[39m_blas\u001b[39;00m\n\u001b[1;32m      4\u001b[0m \u001b[39mdef\u001b[39;00m \u001b[39mget_state\u001b[39m(\n\u001b[1;32m      5\u001b[0m     initial_state: numpy\u001b[39m.\u001b[39mndarray,\n\u001b[1;32m      6\u001b[0m     delta: numpy\u001b[39m.\u001b[39mndarray,\n\u001b[1;32m      7\u001b[0m     transition: numpy\u001b[39m.\u001b[39mndarray,\n\u001b[1;32m      8\u001b[0m     n_iter: \u001b[39mint\u001b[39m) \u001b[39m-\u001b[39m\u001b[39m>\u001b[39m numpy\u001b[39m.\u001b[39mndarray:\n\u001b[1;32m      9\u001b[0m     \u001b[39m\"\"\"_summary_\u001b[39;00m\n\u001b[1;32m     10\u001b[0m \n\u001b[1;32m     11\u001b[0m \u001b[39m    Args:\u001b[39;00m\n\u001b[0;32m   (...)\u001b[0m\n\u001b[1;32m     18\u001b[0m \u001b[39m        numpy.ndarray: _description_\u001b[39;00m\n\u001b[1;32m     19\u001b[0m \u001b[39m    \"\"\"\u001b[39;00m\n",
      "\u001b[0;31mImportError\u001b[0m: libblis.so.4: cannot open shared object file: No such file or directory"
     ]
    }
   ],
   "source": [
    "import timeit\n",
    "import numpy\n",
    "import mcbench.numpy\n",
    "import mcbench.blas\n",
    "import mcbench.cublas\n",
    "import matplotlib.pyplot as plt"
   ]
  },
  {
   "cell_type": "code",
   "execution_count": null,
   "metadata": {},
   "outputs": [],
   "source": [
    "def generate_data(n_state: int):\n",
    "    initial_state = numpy.zeros(n_state, dtype=numpy.double)\n",
    "    initial_state[0] = 5\n",
    "    delta = numpy.zeros(n_state, dtype=numpy.double)\n",
    "    delta[0] = 10\n",
    "    transition = numpy.zeros((n_state, n_state), dtype=numpy.double)\n",
    "    idx = numpy.arange(0, n_state - 1, dtype=int)\n",
    "    transition[idx, idx] = 0.9\n",
    "    transition[idx, idx + 1] = 0.1\n",
    "    transition[n_state - 1, n_state - 1] = 1\n",
    "    return initial_state, delta, transition"
   ]
  },
  {
   "cell_type": "code",
   "execution_count": null,
   "metadata": {},
   "outputs": [],
   "source": [
    "def bench_numpy(n_state: int, n_iter: int):\n",
    "    initial_state, delta, transition = generate_data(n_state)\n",
    "    out = mcbench.numpy.get_state(initial_state, delta, transition, n_iter)\n",
    "    print(out)"
   ]
  },
  {
   "cell_type": "code",
   "execution_count": null,
   "metadata": {},
   "outputs": [],
   "source": [
    "def bench_blas(n_state: int, n_iter: int):\n",
    "    initial_state, delta, transition = generate_data(n_state)\n",
    "    out = mcbench.blas.get_state(initial_state, delta, transition, n_iter)\n",
    "    print(out)"
   ]
  },
  {
   "cell_type": "code",
   "execution_count": null,
   "metadata": {},
   "outputs": [],
   "source": [
    "def bench_cublas(n_state: int, n_iter: int):\n",
    "    initial_state, delta, transition = generate_data(n_state)\n",
    "    out = mcbench.cublas.get_state(initial_state, delta, transition, n_iter)\n",
    "    print(out)"
   ]
  },
  {
   "cell_type": "code",
   "execution_count": null,
   "metadata": {},
   "outputs": [],
   "source": [
    "res_cublas =\\\n",
    "    timeit.repeat(\n",
    "        lambda: bench_cublas(10000, 1000),\n",
    "        repeat=5,\n",
    "        number=1\n",
    "    )"
   ]
  },
  {
   "cell_type": "code",
   "execution_count": null,
   "metadata": {},
   "outputs": [],
   "source": [
    "res_blas =\\\n",
    "    timeit.repeat(\n",
    "        lambda: bench_blas(10000, 1000),\n",
    "        repeat=5,\n",
    "        number=1\n",
    "    )"
   ]
  },
  {
   "cell_type": "code",
   "execution_count": null,
   "metadata": {},
   "outputs": [],
   "source": [
    "res_numpy =\\\n",
    "    timeit.repeat(\n",
    "        lambda: bench_numpy(10000, 1000),\n",
    "        repeat=5,\n",
    "        number=1\n",
    "    )"
   ]
  },
  {
   "cell_type": "code",
   "execution_count": null,
   "metadata": {},
   "outputs": [],
   "source": [
    "res_cublas"
   ]
  },
  {
   "cell_type": "code",
   "execution_count": null,
   "metadata": {},
   "outputs": [],
   "source": [
    "res_blas"
   ]
  },
  {
   "cell_type": "code",
   "execution_count": null,
   "metadata": {},
   "outputs": [],
   "source": [
    "res_numpy"
   ]
  },
  {
   "cell_type": "code",
   "execution_count": null,
   "metadata": {},
   "outputs": [],
   "source": [
    "plt.plot(res_cublas)\n",
    "plt.title(\"cublas\")\n",
    "plt.xlabel(\"iteration\")\n",
    "plt.ylabel(\"runtime\")"
   ]
  },
  {
   "cell_type": "code",
   "execution_count": null,
   "metadata": {},
   "outputs": [],
   "source": [
    "plt.hist(res_cublas)\n",
    "plt.title(\"cublas\")\n",
    "plt.xlabel(\"time\")\n",
    "plt.ylabel(\"frequency\")"
   ]
  },
  {
   "cell_type": "code",
   "execution_count": null,
   "metadata": {},
   "outputs": [],
   "source": [
    "plt.plot(res_blas)\n",
    "plt.title(\"blas\")\n",
    "plt.xlabel(\"iteration\")\n",
    "plt.ylabel(\"runtime\")"
   ]
  },
  {
   "cell_type": "code",
   "execution_count": null,
   "metadata": {},
   "outputs": [],
   "source": [
    "plt.hist(res_blas)\n",
    "plt.title(\"blas\")\n",
    "plt.xlabel(\"time\")\n",
    "plt.ylabel(\"frequency\")"
   ]
  },
  {
   "cell_type": "code",
   "execution_count": null,
   "metadata": {},
   "outputs": [],
   "source": [
    "plt.plot(res_numpy)\n",
    "plt.title(\"numpy\")\n",
    "plt.xlabel(\"iteration\")\n",
    "plt.ylabel(\"runtime\")"
   ]
  },
  {
   "cell_type": "code",
   "execution_count": null,
   "metadata": {},
   "outputs": [],
   "source": [
    "plt.hist(res_numpy)\n",
    "plt.title(\"numpy\")\n",
    "plt.xlabel(\"time\")\n",
    "plt.ylabel(\"frequency\")"
   ]
  }
 ],
 "metadata": {
  "kernelspec": {
   "display_name": "Python 3",
   "language": "python",
   "name": "python3"
  },
  "language_info": {
   "codemirror_mode": {
    "name": "ipython",
    "version": 3
   },
   "file_extension": ".py",
   "mimetype": "text/x-python",
   "name": "python",
   "nbconvert_exporter": "python",
   "pygments_lexer": "ipython3",
   "version": "3.9.2"
  },
  "orig_nbformat": 4,
  "vscode": {
   "interpreter": {
    "hash": "916dbcbb3f70747c44a77c7bcd40155683ae19c65e1c03b4aa3499c5328201f1"
   }
  }
 },
 "nbformat": 4,
 "nbformat_minor": 2
}
